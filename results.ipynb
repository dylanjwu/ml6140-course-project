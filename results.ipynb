{
 "cells": [
  {
   "cell_type": "code",
   "execution_count": 11,
   "metadata": {},
   "outputs": [],
   "source": [
    "import pandas as pd"
   ]
  },
  {
   "cell_type": "code",
   "execution_count": 12,
   "metadata": {},
   "outputs": [],
   "source": [
    "\n",
    "\n",
    "# misclassified_samples = pd.read_csv('./data/mlp_misclassified.csv')\n",
    "\n",
    "misclassified_samples = pd.read_csv('./data/rf_misclassified.csv')"
   ]
  },
  {
   "cell_type": "code",
   "execution_count": null,
   "metadata": {},
   "outputs": [],
   "source": []
  },
  {
   "cell_type": "code",
   "execution_count": 13,
   "metadata": {},
   "outputs": [
    {
     "name": "stdout",
     "output_type": "stream",
     "text": [
      "actual: Bash\n",
      "predicted: {'JavaScript': 7, 'PowerShell': 32, 'HTML': 13, 'C': 19, 'Shell': 20, 'C++': 16, 'Python': 2, 'Text': 2, 'Go': 11, 'Java': 1, 'Ruby': 1, 'JSON': 1}\n",
      "-------------------\n",
      "actual: C\n",
      "predicted: {'Bash': 10, 'Java': 28, 'C++': 197, 'HTML': 10, 'Go': 19, 'JSON': 8, 'JavaScript': 11, 'Ruby': 2, 'Rust': 2, 'Python': 5, 'PowerShell': 2}\n",
      "-------------------\n",
      "actual: C++\n",
      "predicted: {'Java': 47, 'JavaScript': 21, 'Go': 26, 'C': 182, 'Bash': 9, 'Rust': 4, 'Shell': 1, 'HTML': 3, 'PowerShell': 4, 'Ruby': 4, 'Python': 6, 'JSON': 7}\n",
      "-------------------\n",
      "actual: Go\n",
      "predicted: {'Python': 18, 'JSON': 14, 'C++': 32, 'JavaScript': 23, 'Rust': 2, 'C': 25, 'Bash': 5, 'HTML': 7, 'Java': 14, 'PowerShell': 4, 'Ruby': 6, 'Text': 1, 'Shell': 1}\n",
      "-------------------\n",
      "actual: HTML\n",
      "predicted: {'JavaScript': 87, 'C': 26, 'Go': 17, 'C++': 46, 'PowerShell': 11, 'Java': 19, 'Python': 9, 'JSON': 22, 'Bash': 5, 'Rust': 4, 'Shell': 4, 'Ruby': 6}\n",
      "-------------------\n",
      "actual: JSON\n",
      "predicted: {'Ruby': 6, 'Python': 5, 'Go': 6, 'HTML': 4, 'PowerShell': 3, 'JavaScript': 4, 'C': 2, 'Shell': 3, 'Bash': 2, 'Text': 1}\n",
      "-------------------\n",
      "actual: Java\n",
      "predicted: {'JavaScript': 64, 'Go': 9, 'C++': 47, 'PowerShell': 9, 'Python': 14, 'C': 41, 'HTML': 8, 'Ruby': 9, 'Rust': 5, 'JSON': 4, 'Text': 1, 'Shell': 1}\n",
      "-------------------\n",
      "actual: JavaScript\n",
      "predicted: {'Ruby': 37, 'C++': 48, 'JSON': 25, 'HTML': 29, 'Go': 29, 'Java': 86, 'Text': 11, 'Bash': 5, 'Python': 27, 'PowerShell': 20, 'Shell': 12, 'C': 15, 'Rust': 30}\n",
      "-------------------\n",
      "actual: PowerShell\n",
      "predicted: {'Shell': 31, 'Rust': 5, 'Ruby': 12, 'Python': 15, 'Java': 17, 'Text': 4, 'JSON': 4, 'C': 3, 'JavaScript': 19, 'C++': 4, 'HTML': 11, 'Bash': 1}\n",
      "-------------------\n",
      "actual: Python\n",
      "predicted: {'PowerShell': 16, 'Ruby': 70, 'Rust': 9, 'Go': 16, 'JSON': 17, 'JavaScript': 27, 'HTML': 5, 'Java': 13, 'Shell': 14, 'Text': 11, 'C': 2, 'C++': 1}\n",
      "-------------------\n",
      "actual: Ruby\n",
      "predicted: {'Rust': 29, 'Java': 7, 'Go': 8, 'JSON': 7, 'Python': 94, 'PowerShell': 18, 'Shell': 21, 'JavaScript': 12, 'Text': 11, 'HTML': 15, 'C++': 3, 'C': 2}\n",
      "-------------------\n",
      "actual: Rust\n",
      "predicted: {'Shell': 11, 'JavaScript': 49, 'Python': 31, 'Ruby': 24, 'Go': 6, 'Java': 17, 'Text': 6, 'C++': 3, 'PowerShell': 6, 'C': 8, 'JSON': 2, 'HTML': 3}\n",
      "-------------------\n",
      "actual: Shell\n",
      "predicted: {'Text': 17, 'C': 5, 'PowerShell': 53, 'Python': 20, 'JavaScript': 13, 'HTML': 6, 'Ruby': 20, 'Rust': 9, 'Go': 1}\n",
      "-------------------\n",
      "actual: Text\n",
      "predicted: {'Ruby': 45, 'Shell': 44, 'Python': 42, 'Rust': 20, 'JavaScript': 28, 'HTML': 7, 'Java': 11, 'PowerShell': 15, 'JSON': 3, 'C++': 1, 'Go': 3, 'C': 1}\n",
      "-------------------\n"
     ]
    },
    {
     "data": {
      "text/plain": [
       "'\\n    Frequently confused classes:\\n        C and C++\\n        C and Bash\\n        Go and HTML\\n        Java and JavaScript\\n        PowerShell and JavaSvript\\n        Python and Ruby\\n        Python and Powershell\\n        Ruby and Rust\\n        Shell and Rust\\n        Text and Shell (MOST CONFUSED, probably)\\n\\n'"
      ]
     },
     "execution_count": 13,
     "metadata": {},
     "output_type": "execute_result"
    }
   ],
   "source": [
    "\n",
    "mp = {}\n",
    "\n",
    "for i,row in misclassified_samples.iterrows():\n",
    "    actual = row.loc['language']\n",
    "    predicted = row.loc['Predicted']\n",
    "    if actual in mp:\n",
    "        mp[actual][predicted] = mp[actual].get(predicted, 0) + 1\n",
    "    else:\n",
    "        mp[actual] = {}\n",
    "        mp[actual][predicted] = 1\n",
    "\n",
    "for k,v in mp.items():\n",
    "    print(f'actual: {k}')\n",
    "    print(f'predicted: {v}')\n",
    "    print('-------------------')\n",
    "\n",
    "\n",
    "\"\"\"\n",
    "    Frequently confused classes (MLP):\n",
    "        C and C++\n",
    "        C and Bash\n",
    "        Go and HTML\n",
    "        Java and JavaScript\n",
    "        PowerShell and JavaSvript\n",
    "        Python and Ruby\n",
    "        Python and Powershell\n",
    "        Ruby and Rust\n",
    "        Shell and Rust\n",
    "        Text and Shell (MOST CONFUSED, probably)\n",
    "\n",
    "\"\"\"\n",
    "\n",
    "\"\"\"\n",
    "    Frequently confused classes (RF - random forest):\n",
    "        Bash and Powershell\n",
    "\n",
    "\"\"\""
   ]
  }
 ],
 "metadata": {
  "kernelspec": {
   "display_name": "ml_class",
   "language": "python",
   "name": "python3"
  },
  "language_info": {
   "codemirror_mode": {
    "name": "ipython",
    "version": 3
   },
   "file_extension": ".py",
   "mimetype": "text/x-python",
   "name": "python",
   "nbconvert_exporter": "python",
   "pygments_lexer": "ipython3",
   "version": "3.8.2"
  }
 },
 "nbformat": 4,
 "nbformat_minor": 2
}
